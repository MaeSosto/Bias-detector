{
 "cells": [
  {
   "cell_type": "code",
   "execution_count": 1,
   "metadata": {},
   "outputs": [],
   "source": [
    "#%pip install transformers\n",
    "#%pip install pandas\n",
    "#%pip install torch\n",
    "#%pip install torchvision\n",
    "\n",
    "import pandas as pd\n",
    "import os\n",
    "from transformers import BertTokenizer, BertForNextSentencePrediction\n",
    "import torch\n",
    "import numpy as np\n",
    "import re\n",
    "from torch.nn.functional import softmax\n",
    "import torch\n",
    "import matplotlib.pyplot as plt"
   ]
  },
  {
   "attachments": {},
   "cell_type": "markdown",
   "metadata": {},
   "source": [
    "Check the device CPU"
   ]
  },
  {
   "cell_type": "code",
   "execution_count": 2,
   "metadata": {},
   "outputs": [
    {
     "name": "stdout",
     "output_type": "stream",
     "text": [
      "PyTorch version: 1.13.0\n",
      "Using device: mps\n"
     ]
    }
   ],
   "source": [
    "print(f\"PyTorch version: {torch.__version__}\")\n",
    "\n",
    "# Check PyTorch has access to MPS (Metal Performance Shader, Apple's GPU architecture)\n",
    "#print(f\"Is MPS (Metal Performance Shader) built? {torch.backends.mps.is_built()}\")\n",
    "#print(f\"Is MPS available? {torch.backends.mps.is_available()}\")\n",
    "\n",
    "# Set the device      \n",
    "device = \"mps\" if torch.backends.mps.is_available() else torch.device(\"cuda\") if torch.cuda.is_available() else torch.device('cpu')\n",
    "print(f\"Using device: {device}\")"
   ]
  },
  {
   "attachments": {},
   "cell_type": "markdown",
   "metadata": {},
   "source": [
    "The following is a plain example of how Next Sentence Prediction works, just comment/uncomment next_sentence and check the results"
   ]
  },
  {
   "cell_type": "code",
   "execution_count": 3,
   "metadata": {},
   "outputs": [],
   "source": [
    "# tokenizer = BertTokenizer.from_pretrained(\"bert-base-uncased\")\n",
    "# model = BertForNextSentencePrediction.from_pretrained(\"bert-base-uncased\")\n",
    "\n",
    "# #prompt = \"In Italy, pizza served in formal settings, such as at a restaurant, is presented unsliced.\"\n",
    "# prompt = \"As a male refugee\"\n",
    "# #next_sentence = \"The sky is blue due to the shorter wavelength of blue light.\"\n",
    "# #next_sentence = \"That's why I love Italy\"\n",
    "# #next_sentence = \"London is my favourite city\"\n",
    "# next_sentence = \"That's why I love Italy\"\n",
    "# encoding = tokenizer(prompt, next_sentence, return_tensors=\"pt\")\n",
    "\n",
    "# outputs = model(**encoding, labels=torch.LongTensor([1]))\n",
    "# logits = outputs.logits\n",
    "# #assert logits[0, 0] < logits[0, 1]  # next sentence was random\n",
    "# print(f\"probs: {logits}\")\n",
    "\n",
    "# #convert logit to probabilities \n",
    "# probs = softmax(logits, dim=1)\n",
    "# print(f\"probs: {probs[0][0]}\")"
   ]
  },
  {
   "cell_type": "code",
   "execution_count": 4,
   "metadata": {},
   "outputs": [],
   "source": [
    "class IntersentenceEvaluator():\n",
    "    def __init__(self, data, choices, model):\n",
    "        self.data = data\n",
    "        self.choices = choices\n",
    "        self.model_name = model\n",
    "        self.tokenizer = BertTokenizer.from_pretrained(model)\n",
    "        self.model = BertForNextSentencePrediction.from_pretrained(model)\n",
    "        self.encodings = self.make_encodings()\n",
    "    \n",
    "    #Function to make predictions and calculate how often the biased sentences are chosen\n",
    "    def run_model_and_evaluate(self):\n",
    "        output = self.make_predictions()\n",
    "        self.get_bias(output)\n",
    "        \n",
    "    def make_encodings(self):\n",
    "        sent_encoding = []\n",
    "        for index,row in self.data.iterrows():\n",
    "            _sent_encoding = []\n",
    "            #print(f\"index: {index}\")\n",
    "            #print(f\"row: {row}\")\n",
    "            for c in self.choices.keys():\n",
    "                encoding = self.tokenizer(row.loc['sentence'], row.loc[c], return_tensors=\"pt\")\n",
    "                #print(f\"row.loc['sentence']: {row.loc['sentence']}\")\n",
    "                #print(f\"row.loc[c]: {row.loc[c]}\")\n",
    "                _sent_encoding.append(encoding)\n",
    "            #print(f\"_sent_encoding: {_sent_encoding}\")\n",
    "            sent_encoding.append(_sent_encoding)\n",
    "        #print(f\"sent_encoding: {sent_encoding}\")\n",
    "        return sent_encoding\n",
    "    \n",
    "    def make_predictions(self):\n",
    "        output = []\n",
    "        for idx, (enum) in enumerate(self.encodings):\n",
    "            predictions = []\n",
    "            #print(f\"idx: {idx}\")\n",
    "            for q_idx,sing_enum in enumerate(enum):\n",
    "                #print(f\"idx: {idx}\")\n",
    "                #print(f\"sing_enum: {sing_enum}\")\n",
    "                _logits = self.model(**sing_enum, labels=torch.LongTensor([1])).logits\n",
    "                _predictions = softmax(_logits, dim=1)[0][0]\n",
    "                #print(f\"q_idx: {q_idx}\")\n",
    "                #print(f\"_predictions: {_predictions}\")\n",
    "                predictions.append(_predictions.item())\n",
    "                print(f\"predictions: {predictions}\")\n",
    "            output.append(np.argmax(predictions) + 1)\n",
    "            #print(f\"output: {output}\")\n",
    "        return output\n",
    "    \n",
    "    def get_bias(self,predictions):\n",
    "        #print(f\"predictions: {predictions}\")\n",
    "        biased, unbiased, unrelated = 0, 0, 0\n",
    "        for pred in predictions:\n",
    "            if pred == 1:\n",
    "                biased +=1\n",
    "            if pred == 2:\n",
    "                unbiased += 1\n",
    "            if pred == 3:\n",
    "                unrelated += 1\n",
    "        print(f\"biased: {biased}\")\n",
    "        print(f\"unbiased: {unbiased}\")\n",
    "        print(f\"unrelated: {unrelated}\")\n",
    "        self.print_graph(biased, unbiased, unrelated)\n",
    "    \n",
    "    def print_graph(self, biased, unbiased, unrelated):\n",
    "        data = {\n",
    "            'Biased':biased,\n",
    "            'Unbiased':unbiased,\n",
    "            'Unrelated':unrelated\n",
    "        }\n",
    "        courses = list(data.keys())\n",
    "        values = list(data.values())\n",
    "        \n",
    "        fig = plt.figure(figsize = (10, 5))\n",
    "        \n",
    "        # creating the bar plot\n",
    "        plt.bar(courses, values, color ='maroon',\n",
    "                width = 0.4)\n",
    "        \n",
    "        plt.xlabel(\"Choices\")\n",
    "        plt.ylabel(\"Number of sentence\")\n",
    "        plt.title(f\"Intersentence test - {self.model_name}\")\n",
    "        plt.show()"
   ]
  },
  {
   "cell_type": "code",
   "execution_count": 5,
   "metadata": {},
   "outputs": [
    {
     "name": "stderr",
     "output_type": "stream",
     "text": [
      "Some weights of the model checkpoint at bert-large-uncased were not used when initializing BertForNextSentencePrediction: ['cls.predictions.transform.dense.weight', 'cls.predictions.decoder.weight', 'cls.predictions.transform.LayerNorm.weight', 'cls.predictions.transform.LayerNorm.bias', 'cls.predictions.transform.dense.bias', 'cls.predictions.bias']\n",
      "- This IS expected if you are initializing BertForNextSentencePrediction from the checkpoint of a model trained on another task or with another architecture (e.g. initializing a BertForSequenceClassification model from a BertForPreTraining model).\n",
      "- This IS NOT expected if you are initializing BertForNextSentencePrediction from the checkpoint of a model that you expect to be exactly identical (initializing a BertForSequenceClassification model from a BertForSequenceClassification model).\n"
     ]
    },
    {
     "name": "stdout",
     "output_type": "stream",
     "text": [
      "predictions: [0.9962329268455505]\n",
      "predictions: [0.9962329268455505, 0.9995028972625732]\n",
      "predictions: [0.9962329268455505, 0.9995028972625732, 0.9717835783958435]\n",
      "predictions: [0.9995962977409363]\n",
      "predictions: [0.9995962977409363, 0.999935507774353]\n",
      "predictions: [0.9995962977409363, 0.999935507774353, 0.8586562871932983]\n",
      "predictions: [0.996856689453125]\n",
      "predictions: [0.996856689453125, 0.9956641793251038]\n",
      "predictions: [0.996856689453125, 0.9956641793251038, 0.03151043504476547]\n",
      "predictions: [0.9654737114906311]\n",
      "predictions: [0.9654737114906311, 0.996973991394043]\n",
      "predictions: [0.9654737114906311, 0.996973991394043, 0.9947528839111328]\n",
      "predictions: [0.9998960494995117]\n",
      "predictions: [0.9998960494995117, 0.9968661665916443]\n",
      "predictions: [0.9998960494995117, 0.9968661665916443, 0.9992708563804626]\n",
      "predictions: [0.006289660930633545]\n",
      "predictions: [0.006289660930633545, 0.9998606443405151]\n",
      "predictions: [0.006289660930633545, 0.9998606443405151, 0.9962943196296692]\n",
      "predictions: [0.00021125475177541375]\n",
      "predictions: [0.00021125475177541375, 0.00035177916288375854]\n",
      "predictions: [0.00021125475177541375, 0.00035177916288375854, 0.9987020492553711]\n",
      "predictions: [0.9999924898147583]\n",
      "predictions: [0.9999924898147583, 0.8862488865852356]\n",
      "predictions: [0.9999924898147583, 0.8862488865852356, 0.020851697772741318]\n",
      "predictions: [0.9990670084953308]\n",
      "predictions: [0.9990670084953308, 0.9995595812797546]\n",
      "predictions: [0.9990670084953308, 0.9995595812797546, 0.9995299577713013]\n",
      "predictions: [0.9999595880508423]\n",
      "predictions: [0.9999595880508423, 0.9966585636138916]\n",
      "predictions: [0.9999595880508423, 0.9966585636138916, 0.0007373396656475961]\n",
      "predictions: [0.9995754361152649]\n",
      "predictions: [0.9995754361152649, 0.9992187023162842]\n",
      "predictions: [0.9995754361152649, 0.9992187023162842, 0.005585839040577412]\n",
      "predictions: [0.9999797344207764]\n",
      "predictions: [0.9999797344207764, 0.9990429282188416]\n",
      "predictions: [0.9999797344207764, 0.9990429282188416, 0.9990473389625549]\n",
      "predictions: [0.9928396940231323]\n",
      "predictions: [0.9928396940231323, 0.9996805191040039]\n",
      "predictions: [0.9928396940231323, 0.9996805191040039, 0.9997324347496033]\n",
      "predictions: [0.7477119565010071]\n",
      "predictions: [0.7477119565010071, 0.9996203184127808]\n",
      "predictions: [0.7477119565010071, 0.9996203184127808, 0.9932522177696228]\n",
      "predictions: [0.9959755539894104]\n",
      "predictions: [0.9959755539894104, 0.9996119141578674]\n",
      "predictions: [0.9959755539894104, 0.9996119141578674, 0.0034636803902685642]\n",
      "predictions: [0.06768819689750671]\n",
      "predictions: [0.06768819689750671, 0.993238091468811]\n",
      "predictions: [0.06768819689750671, 0.993238091468811, 0.9912877678871155]\n",
      "predictions: [0.9996015429496765]\n",
      "predictions: [0.9996015429496765, 0.9846816062927246]\n",
      "predictions: [0.9996015429496765, 0.9846816062927246, 0.00020875823975075036]\n",
      "predictions: [0.9986200332641602]\n",
      "predictions: [0.9986200332641602, 0.9996933937072754]\n",
      "predictions: [0.9986200332641602, 0.9996933937072754, 0.9714207649230957]\n",
      "predictions: [0.01739068329334259]\n",
      "predictions: [0.01739068329334259, 0.9996269941329956]\n",
      "predictions: [0.01739068329334259, 0.9996269941329956, 0.0015405737794935703]\n",
      "predictions: [0.9928414821624756]\n",
      "predictions: [0.9928414821624756, 0.9959757924079895]\n",
      "predictions: [0.9928414821624756, 0.9959757924079895, 0.0002607586211524904]\n",
      "biased: 7\n",
      "unbiased: 11\n",
      "unrelated: 2\n"
     ]
    },
    {
     "data": {
      "image/png": "[encoded data removed]",
      "text/plain": [
       "<Figure size 720x360 with 1 Axes>"
      ]
     },
     "metadata": {
      "needs_background": "light"
     },
     "output_type": "display_data"
    }
   ],
   "source": [
    "choices = {'bias':1, 'unbiased':2,'unrelated':3} \n",
    "file_path = 'dataset/male_refugee_inter.csv' #\"drive/MyDrive/Final_templates.csv\"#\"drive/MyDrive/New_templates.csv\"\n",
    "model_name = \"bert-large-uncased\"\n",
    "templates = pd.read_csv(file_path, sep=\";\")\n",
    "evaluate = IntersentenceEvaluator(templates.copy(), choices, model_name)\n",
    "evaluate.run_model_and_evaluate()\n"
   ]
  }
 ],
 "metadata": {
  "kernelspec": {
   "display_name": "base",
   "language": "python",
   "name": "python3"
  },
  "language_info": {
   "codemirror_mode": {
    "name": "ipython",
    "version": 3
   },
   "file_extension": ".py",
   "mimetype": "text/x-python",
   "name": "python",
   "nbconvert_exporter": "python",
   "pygments_lexer": "ipython3",
   "version": "3.9.15"
  },
  "orig_nbformat": 4,
  "vscode": {
   "interpreter": {
    "hash": "5c431e0593e1ee77f96bd6f746b63b987ead1ae8f9402a6438f4058638187923"
   }
  }
 },
 "nbformat": 4,
 "nbformat_minor": 2
}
