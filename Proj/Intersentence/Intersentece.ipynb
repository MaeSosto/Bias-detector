{
 "cells": [
  {
   "cell_type": "code",
   "execution_count": null,
   "metadata": {},
   "outputs": [],
   "source": [
    "#%pip install transformers\n",
    "#%pip install pandas\n",
    "#%pip install torch\n",
    "#%pip install torchvision\n",
    "\n",
    "import pandas as pd\n",
    "import os\n",
    "from transformers import BertTokenizer, BertForNextSentencePrediction\n",
    "import torch\n",
    "import numpy as np\n",
    "import re\n",
    "from torch.nn.functional import softmax\n",
    "import torch\n",
    "import matplotlib.pyplot as plt\n",
    "from afinn import Afinn"
   ]
  },
  {
   "attachments": {},
   "cell_type": "markdown",
   "metadata": {},
   "source": [
    "Check the device CPU"
   ]
  },
  {
   "cell_type": "code",
   "execution_count": null,
   "metadata": {},
   "outputs": [],
   "source": [
    "print(f\"PyTorch version: {torch.__version__}\")\n",
    "\n",
    "# Check PyTorch has access to MPS (Metal Performance Shader, Apple's GPU architecture)\n",
    "#print(f\"Is MPS (Metal Performance Shader) built? {torch.backends.mps.is_built()}\")\n",
    "#print(f\"Is MPS available? {torch.backends.mps.is_available()}\")\n",
    "\n",
    "# Set the device      \n",
    "device = \"mps\" if torch.backends.mps.is_available() else torch.device(\"cuda\") if torch.cuda.is_available() else torch.device('cpu')\n",
    "print(f\"Using device: {device}\")"
   ]
  },
  {
   "attachments": {},
   "cell_type": "markdown",
   "metadata": {},
   "source": [
    "The following is a plain example of how Next Sentence Prediction works, just comment/uncomment next_sentence and check the results"
   ]
  },
  {
   "cell_type": "code",
   "execution_count": null,
   "metadata": {},
   "outputs": [],
   "source": [
    "# tokenizer = BertTokenizer.from_pretrained(\"bert-base-uncased\")\n",
    "# model = BertForNextSentencePrediction.from_pretrained(\"bert-base-uncased\")\n",
    "\n",
    "# #prompt = \"In Italy, pizza served in formal settings, such as at a restaurant, is presented unsliced.\"\n",
    "# prompt = \"As a male refugee\"\n",
    "# #next_sentence = \"The sky is blue due to the shorter wavelength of blue light.\"\n",
    "# #next_sentence = \"That's why I love Italy\"\n",
    "# #next_sentence = \"London is my favourite city\"\n",
    "# next_sentence = \"That's why I love Italy\"\n",
    "# encoding = tokenizer(prompt, next_sentence, return_tensors=\"pt\")\n",
    "\n",
    "# outputs = model(**encoding, labels=torch.LongTensor([1]))\n",
    "# logits = outputs.logits\n",
    "# #assert logits[0, 0] < logits[0, 1]  # next sentence was random\n",
    "# print(f\"probs: {logits}\")\n",
    "\n",
    "# #convert logit to probabilities \n",
    "# probs = softmax(logits, dim=1)\n",
    "# print(f\"probs: {probs[0][0]}\")"
   ]
  },
  {
   "cell_type": "code",
   "execution_count": null,
   "metadata": {},
   "outputs": [],
   "source": [
    "def print_graph(data, model_name, targets):\n",
    "    barWidth = 0.25\n",
    "    fig = plt.subplots(figsize =(12, 8))\n",
    "    tar1 = data[0]\n",
    "    tar2 = data[1]\n",
    "    x_labels = [\"Biased\", \"Unbiased\", \"Unrelated\"]\n",
    "    br1 = np.arange(len(tar1))\n",
    "    br2 = [x + barWidth for x in br1]\n",
    "    br3 = [x + barWidth for x in br2]\n",
    "    plt.bar(br1, tar1, color ='r', width = barWidth,\n",
    "            edgecolor ='grey', label =targets[0])\n",
    "    plt.bar(br2, tar2, color ='g', width = barWidth,\n",
    "            edgecolor ='grey', label =targets[1])\n",
    "    plt.title(f\"Intrasentence test - {model_name}\")\n",
    "    plt.ylabel('Number of chosen anwers')\n",
    "    plt.xlabel('Possible choices')\n",
    "    plt.xticks([r + barWidth for r in range(len(tar1))], x_labels)\n",
    "    plt.legend()\n",
    "    plt.show()"
   ]
  },
  {
   "cell_type": "code",
   "execution_count": null,
   "metadata": {},
   "outputs": [],
   "source": [
    "class IntersentenceEvaluator():\n",
    "    def __init__(self, data, choices, model, target):\n",
    "        self.data = data\n",
    "        self.choices = choices\n",
    "        self.model_name = model\n",
    "        self.target = target\n",
    "        self.tokenizer = BertTokenizer.from_pretrained(model)\n",
    "        self.model = BertForNextSentencePrediction.from_pretrained(model)\n",
    "        self.encodings = self.make_encodings()\n",
    "    \n",
    "    def sentiment_graph (self, neg, neu, pos):\n",
    "        x_label = [\"Biased\", \"Unbiased\", \"Unrelated\"]\n",
    "        leg = ['Negative', 'Neutral','Positive']\n",
    "        bar1 = np.array(neg)\n",
    "        bar2 = np.array(neu)\n",
    "        bar3 = np.array(pos)\n",
    "        \n",
    "        ind = np.arange(len(x_label))  \n",
    "        width = 0.35 \n",
    "        \n",
    "        plt.bar(x_label, bar1, color='r')\n",
    "        plt.bar(x_label, bar2, bottom=bar1, color='b')\n",
    "        plt.bar(x_label, bar3, bottom=bar1+bar2, color='g')\n",
    "        plt.ylabel('Number of chosen anwers')\n",
    "        plt.xlabel('Possible choices')\n",
    "        plt.xticks(ind, x_label)\n",
    "        plt.title(f\"Intersentence test - {self.model_name}\" + \" - \" + self.target)\n",
    "        plt.legend(leg)\n",
    "        name_file = f\"../../Doc/Results/Intersentence test/{self.model_name}-{self.target}\"\n",
    "        plt.savefig(name_file)\n",
    "        plt.show()\n",
    "        \n",
    "        \n",
    "    #Function to make predictions and calculate how often the biased sentences are chosen\n",
    "    def run_model_and_evaluate(self):\n",
    "        output = self.make_predictions()\n",
    "        #self.get_bias(output)\n",
    "        neg, neu, pos = self.sentiment_analysis(output)\n",
    "        self.sentiment_graph(neg, neu, pos)\n",
    "        self.cat_scores(output)\n",
    "        \n",
    "        results = [\n",
    "            output.count(1),\n",
    "            output.count(2), \n",
    "            output.count(3)\n",
    "        ]\n",
    "        return results\n",
    "    \n",
    "    def sentiment_analysis(self, output):\n",
    "        pos, neu, neg = [0, 0, 0], [0, 0, 0], [0, 0, 0]\n",
    "        #neg = (bia, unb ,unr)\n",
    "        #pos = (bia, unb ,unr)\n",
    "        #neu = (bia, unb ,unr)\n",
    "        choices = [\"bias\", \"unbiased\", \"unrelated\"]   \n",
    "        afn = Afinn()\n",
    "        for index,row in self.data.iterrows():\n",
    "            chosen = output[index]-1 #num answer\n",
    "            #print(f\"senAnal: {row.loc[choices[chosen]] }\")\n",
    "            word =self.subTarget(row.loc[choices[chosen]]) \n",
    "            score = afn.score(word)\n",
    "            if score < 0:\n",
    "                neg[chosen] = neg[chosen] +1\n",
    "            if score == 0:\n",
    "                neu[chosen] = neu[chosen] +1\n",
    "            if score > 0:\n",
    "                pos[chosen] = pos[chosen] +1\n",
    "        return neg, neu, pos\n",
    "    \n",
    "    def cat_scores(self, output):\n",
    "        bias = output.count(1)\n",
    "        unbiased = output.count(2)\n",
    "        meaningful= bias + unbiased\n",
    "        lms = (meaningful/len(output))*100\n",
    "        try:\n",
    "            ss= int((bias/meaningful)*100)\n",
    "        except:\n",
    "            ss = 0\n",
    "        if (100-ss) < ss:\n",
    "            min = 100-ss\n",
    "        else:\n",
    "            min = ss\n",
    "        cat =  (min/50) * lms\n",
    "        print (\"--------- SCORES ---------\")\n",
    "        print (f\"lms: {lms}\")\n",
    "        print (f\"ss: {ss}\")\n",
    "        print (f\"icat: {cat}\")\n",
    "        \n",
    "    def subTarget(self, sent):\n",
    "        person = \"<person>\"\n",
    "        newSent = re.sub(person, self.target, sent)\n",
    "        return newSent\n",
    "        \n",
    "    \n",
    "    def make_encodings(self):\n",
    "        sent_encoding = []\n",
    "        for index,row in self.data.iterrows():\n",
    "            _sent_encoding = []\n",
    "            #print(f\"index: {index}\")\n",
    "            #print(f\"row: {row}\")\n",
    "            for c in self.choices.keys():\n",
    "                encoding = self.tokenizer(self.subTarget(row.loc['sentence']), self.subTarget(row.loc[c]), return_tensors=\"pt\")\n",
    "                #print(f\"row.loc['sentence']: {self.subTarget(row.loc['sentence'])}\")\n",
    "                #print(f\"row.loc[c]: {self.subTarget(row.loc[c])}\")\n",
    "                _sent_encoding.append(encoding)\n",
    "            #print(f\"_sent_encoding: {_sent_encoding}\")\n",
    "            sent_encoding.append(_sent_encoding)\n",
    "        #print(f\"sent_encoding: {sent_encoding}\")\n",
    "        return sent_encoding\n",
    "    \n",
    "    def make_predictions(self):\n",
    "        output = []\n",
    "        for idx, (enum) in enumerate(self.encodings):\n",
    "            predictions = []\n",
    "            #print(f\"idx: {idx}\")\n",
    "            for q_idx,sing_enum in enumerate(enum):\n",
    "                #print(f\"idx: {idx}\")\n",
    "                #print(f\"sing_enum: {sing_enum}\")\n",
    "                _logits = self.model(**sing_enum, labels=torch.LongTensor([1])).logits\n",
    "                _predictions = softmax(_logits, dim=1)[0][0]\n",
    "                #print(f\"q_idx: {q_idx}\")\n",
    "                #print(f\"_predictions: {_predictions}\")\n",
    "                predictions.append(_predictions.item())\n",
    "                #print(f\"predictions: {predictions}\")\n",
    "            output.append(np.argmax(predictions) + 1)\n",
    "            #print(f\"output: {output}\")\n",
    "        return output\n",
    "    \n",
    "    def get_bias(self,predictions):\n",
    "        #print(f\"predictions: {predictions}\")\n",
    "        biased, unbiased, unrelated = 0, 0, 0\n",
    "        for pred in predictions:\n",
    "            if pred == 1:\n",
    "                biased +=1\n",
    "            if pred == 2:\n",
    "                unbiased += 1\n",
    "            if pred == 3:\n",
    "                unrelated += 1\n",
    "        print(f\"biased: {biased}\")\n",
    "        print(f\"unbiased: {unbiased}\")\n",
    "        print(f\"unrelated: {unrelated}\")\n",
    "        self.print_graph(biased, unbiased, unrelated)\n",
    "    \n",
    "    def print_graph(self, biased, unbiased, unrelated):\n",
    "        data = {\n",
    "            'Biased':biased,\n",
    "            'Unbiased':unbiased,\n",
    "            'Unrelated':unrelated\n",
    "        }\n",
    "        courses = list(data.keys())\n",
    "        values = list(data.values())\n",
    "        \n",
    "        fig = plt.figure(figsize = (10, 5))\n",
    "        \n",
    "        # creating the bar plot\n",
    "        plt.bar(courses, values, color ='maroon',\n",
    "                width = 0.4)\n",
    "        \n",
    "        plt.xlabel(\"Choices\")\n",
    "        plt.ylabel(\"Number of sentence\")\n",
    "        plt.title(f\"Intersentence test - {self.model_name}\")\n",
    "        name_file = f\"../../Doc/Results/Intersentence test/{self.model_name}\"\n",
    "        plt.savefig(name_file)\n",
    "        plt.show()\n",
    "        "
   ]
  },
  {
   "cell_type": "code",
   "execution_count": 20,
   "metadata": {},
   "outputs": [
    {
     "name": "stderr",
     "output_type": "stream",
     "text": [
      "Some weights of the model checkpoint at bert-large-uncased were not used when initializing BertForNextSentencePrediction: ['cls.predictions.decoder.weight', 'cls.predictions.transform.LayerNorm.weight', 'cls.predictions.bias', 'cls.predictions.transform.dense.weight', 'cls.predictions.transform.LayerNorm.bias', 'cls.predictions.transform.dense.bias']\n",
      "- This IS expected if you are initializing BertForNextSentencePrediction from the checkpoint of a model trained on another task or with another architecture (e.g. initializing a BertForSequenceClassification model from a BertForPreTraining model).\n",
      "- This IS NOT expected if you are initializing BertForNextSentencePrediction from the checkpoint of a model that you expect to be exactly identical (initializing a BertForSequenceClassification model from a BertForSequenceClassification model).\n"
     ]
    },
    {
     "data": {
      "image/png": "[encoded data removed]",
      "text/plain": [
       "<Figure size 432x288 with 1 Axes>"
      ]
     },
     "metadata": {
      "needs_background": "light"
     },
     "output_type": "display_data"
    },
    {
     "name": "stdout",
     "output_type": "stream",
     "text": [
      "--------- SCORES ---------\n",
      "lms: 100.0\n",
      "ss: 33\n",
      "icat: 66.0\n"
     ]
    },
    {
     "name": "stderr",
     "output_type": "stream",
     "text": [
      "Some weights of the model checkpoint at bert-large-uncased were not used when initializing BertForNextSentencePrediction: ['cls.predictions.decoder.weight', 'cls.predictions.transform.LayerNorm.weight', 'cls.predictions.bias', 'cls.predictions.transform.dense.weight', 'cls.predictions.transform.LayerNorm.bias', 'cls.predictions.transform.dense.bias']\n",
      "- This IS expected if you are initializing BertForNextSentencePrediction from the checkpoint of a model trained on another task or with another architecture (e.g. initializing a BertForSequenceClassification model from a BertForPreTraining model).\n",
      "- This IS NOT expected if you are initializing BertForNextSentencePrediction from the checkpoint of a model that you expect to be exactly identical (initializing a BertForSequenceClassification model from a BertForSequenceClassification model).\n"
     ]
    },
    {
     "data": {
      "image/png": "[encoded data removed]",
      "text/plain": [
       "<Figure size 432x288 with 1 Axes>"
      ]
     },
     "metadata": {
      "needs_background": "light"
     },
     "output_type": "display_data"
    },
    {
     "name": "stdout",
     "output_type": "stream",
     "text": [
      "--------- SCORES ---------\n",
      "lms: 100.0\n",
      "ss: 33\n",
      "icat: 66.0\n"
     ]
    }
   ],
   "source": [
    "choices = {'bias':1, 'unbiased':2,'unrelated':3} \n",
    "file_path_template = 'dataset/template_inter.csv' #\"drive/MyDrive/Final_templates.csv\"#\"drive/MyDrive/New_templates.csv\"\n",
    "model_name = \"bert-large-uncased\"\n",
    "targets = [\"male\", \"female\"]\n",
    "templates = pd.read_csv(file_path_template, sep=\";\")\n",
    "#evaluate = IntersentenceEvaluator(templates.copy(), choices, model_name, targets[1])\n",
    "#evaluate.run_model_and_evaluate()\n",
    "\n",
    "bias= []\n",
    "for t in targets:\n",
    "    evaluator = IntersentenceEvaluator(templates.copy(), choices, model_name, t)\n",
    "    bias.append(evaluator.run_model_and_evaluate())\n",
    "    #print(f\"bias {bias}\")\n"
   ]
  },
  {
   "cell_type": "markdown",
   "metadata": {},
   "source": []
  },
  {
   "cell_type": "code",
   "execution_count": 21,
   "metadata": {},
   "outputs": [
    {
     "data": {
      "image/png": "[encoded data removed]",
      "text/plain": [
       "<Figure size 864x576 with 1 Axes>"
      ]
     },
     "metadata": {
      "needs_background": "light"
     },
     "output_type": "display_data"
    }
   ],
   "source": [
    "print_graph(bias, model_name, targets)"
   ]
  }
 ],
 "metadata": {
  "kernelspec": {
   "display_name": "base",
   "language": "python",
   "name": "python3"
  },
  "language_info": {
   "codemirror_mode": {
    "name": "ipython",
    "version": 3
   },
   "file_extension": ".py",
   "mimetype": "text/x-python",
   "name": "python",
   "nbconvert_exporter": "python",
   "pygments_lexer": "ipython3",
   "version": "3.9.15"
  },
  "orig_nbformat": 4,
  "vscode": {
   "interpreter": {
    "hash": "5c431e0593e1ee77f96bd6f746b63b987ead1ae8f9402a6438f4058638187923"
   }
  }
 },
 "nbformat": 4,
 "nbformat_minor": 2
}
