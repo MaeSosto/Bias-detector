{
 "cells": [
  {
   "cell_type": "code",
   "execution_count": 2,
   "metadata": {},
   "outputs": [
    {
     "name": "stdout",
     "output_type": "stream",
     "text": [
      "Requirement already satisfied: afinn in /Users/mae/opt/miniconda3/lib/python3.9/site-packages (0.1)\n",
      "Note: you may need to restart the kernel to use updated packages.\n"
     ]
    }
   ],
   "source": [
    "%pip install afinn"
   ]
  },
  {
   "cell_type": "code",
   "execution_count": 6,
   "metadata": {},
   "outputs": [],
   "source": [
    "from afinn import Afinn\n",
    "import pandas as pd"
   ]
  },
  {
   "cell_type": "code",
   "execution_count": 5,
   "metadata": {},
   "outputs": [
    {
     "name": "stdout",
     "output_type": "stream",
     "text": [
      "      topic  scores sentiments\n",
      "0     happy     3.0   positive\n",
      "1      good     3.0   positive\n",
      "2       bad    -3.0   negative\n",
      "3  welcomed     2.0   positive\n",
      "4  umbrella     0.0    neutral\n"
     ]
    }
   ],
   "source": [
    "#instantiate afinn\n",
    "afn = Afinn()\n",
    " \n",
    "#creating list sentences\n",
    "news_df = ['happy','good',\n",
    "         'bad','welcomed', 'umbrella']\n",
    "          \n",
    "# compute scores (polarity) and labels\n",
    "scores = [afn.score(article) for article in news_df]\n",
    "sentiment = ['positive' if score > 0\n",
    "                          else 'negative' if score < 0\n",
    "                              else 'neutral'\n",
    "                                  for score in scores]\n",
    "     \n",
    "# dataframe creation\n",
    "df = pd.DataFrame()\n",
    "df['topic'] =  news_df\n",
    "df['scores'] = scores\n",
    "df['sentiments'] = sentiment\n",
    "print(df)"
   ]
  },
  {
   "cell_type": "code",
   "execution_count": 10,
   "metadata": {},
   "outputs": [
    {
     "name": "stdout",
     "output_type": "stream",
     "text": [
      "Score: -3.0\n"
     ]
    }
   ],
   "source": [
    "afn = Afinn()\n",
    "\n",
    "word = \"bad\"\n",
    "print (f\"Score: {afn.score(word)}\")"
   ]
  }
 ],
 "metadata": {
  "kernelspec": {
   "display_name": "Python 3",
   "language": "python",
   "name": "python3"
  },
  "language_info": {
   "codemirror_mode": {
    "name": "ipython",
    "version": 3
   },
   "file_extension": ".py",
   "mimetype": "text/x-python",
   "name": "python",
   "nbconvert_exporter": "python",
   "pygments_lexer": "ipython3",
   "version": "3.9.15"
  },
  "vscode": {
   "interpreter": {
    "hash": "5c431e0593e1ee77f96bd6f746b63b987ead1ae8f9402a6438f4058638187923"
   }
  }
 },
 "nbformat": 4,
 "nbformat_minor": 2
}
