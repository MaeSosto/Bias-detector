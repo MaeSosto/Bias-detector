{
 "cells": [
  {
   "cell_type": "code",
   "execution_count": 79,
   "metadata": {},
   "outputs": [],
   "source": [
    "#%pip install transformers\n",
    "#!pip install pandas\n",
    "#%pip install torch"
   ]
  },
  {
   "cell_type": "code",
   "execution_count": 80,
   "metadata": {},
   "outputs": [],
   "source": [
    "import pandas as pd\n",
    "import os\n",
    "import torch\n",
    "from transformers import AutoTokenizer, AutoModelForMaskedLM\n",
    "import numpy as np\n",
    "import re\n",
    "import matplotlib.pyplot as plt\n",
    "from afinn import Afinn\n",
    "from torch.nn.functional import softmax"
   ]
  },
  {
   "cell_type": "code",
   "execution_count": 81,
   "metadata": {},
   "outputs": [
    {
     "name": "stdout",
     "output_type": "stream",
     "text": [
      "PyTorch version: 1.13.0\n",
      "Using device: mps\n"
     ]
    }
   ],
   "source": [
    "print(f\"PyTorch version: {torch.__version__}\")\n",
    "\n",
    "# Set the device      \n",
    "device = \"mps\" if torch.backends.mps.is_available() else torch.device(\"cuda\") if torch.cuda.is_available() else torch.device('cpu')\n",
    "print(f\"Using device: {device}\")"
   ]
  },
  {
   "cell_type": "code",
   "execution_count": 82,
   "metadata": {},
   "outputs": [],
   "source": [
    "def print_graph(data, model_name, targets):\n",
    "    barWidth = 0.25\n",
    "    #fig = plt.subplots(figsize =(12, 8))\n",
    "    tar1 = data[0]\n",
    "    tar2 = data[1]\n",
    "    x_labels = [\"Biased\", \"Unbiased\", \"Unrelated\"]\n",
    "    br1 = np.arange(len(tar1))\n",
    "    br2 = [x + barWidth for x in br1]\n",
    "    br3 = [x + barWidth for x in br2]\n",
    "    plt.bar(br1, tar1, color ='r', width = barWidth,\n",
    "            edgecolor ='grey', label =targets[0])\n",
    "    plt.bar(br2, tar2, color ='g', width = barWidth,\n",
    "            edgecolor ='grey', label =targets[1])\n",
    "    plt.title(f\"Intrasentence test - {model_name}\")\n",
    "    plt.ylabel('Number of chosen anwers')\n",
    "    plt.xlabel('Possible choices')\n",
    "    plt.xticks([r + barWidth for r in range(len(tar1))], x_labels)\n",
    "    plt.legend()\n",
    "    name_file = f\"../../Doc/Results/Intrasentence test/{model_name}.png\"\n",
    "    plt.savefig(name_file)\n",
    "    plt.show()\n",
    "    "
   ]
  },
  {
   "cell_type": "code",
   "execution_count": 83,
   "metadata": {},
   "outputs": [],
   "source": [
    "class IntrasentenceEvaluator():\n",
    "    \n",
    "    def __init__(self, data, choices, model, target):\n",
    "        self.data = data\n",
    "        self.choices = choices\n",
    "        self.model_name = model\n",
    "        self.target = target\n",
    "        self.process_sentences()\n",
    "        self.tokenizer = AutoTokenizer.from_pretrained(model)\n",
    "        self.sent_encodings, self.word_encodings, self.mask_idxs = self.make_encodings() #store the encodings\n",
    "        self.model = AutoModelForMaskedLM.from_pretrained(model)\n",
    "    \n",
    "    def sentiment_graph (self, neg, neu, pos):\n",
    "        x_label = [\"Biased\", \"Unbiased\", \"Unrelated\"]\n",
    "        leg = ['Negative', 'Neutral','Positive']\n",
    "        bar1 = np.array(neg)\n",
    "        bar2 = np.array(neu)\n",
    "        bar3 = np.array(pos)\n",
    "        \n",
    "        ind = np.arange(len(x_label))  \n",
    "        width = 0.35 \n",
    "        \n",
    "        plt.bar(x_label, bar1, color='r')\n",
    "        plt.bar(x_label, bar2, bottom=bar1, color='b')\n",
    "        plt.bar(x_label, bar3, bottom=bar1+bar2, color='g')\n",
    "        plt.ylabel('Number of chosen anwers')\n",
    "        plt.xlabel('Possible choices')\n",
    "        plt.xticks(ind, x_label)\n",
    "        plt.title(f\"Intrasentence test - {self.model_name}\" + \" - \" + self.target)\n",
    "        plt.legend(leg)\n",
    "        name_file = f\"../../Doc/Results/Intrasentence test/{self.model_name}-{self.target}.png\"\n",
    "        plt.savefig(name_file)\n",
    "        plt.show()\n",
    "        \n",
    "        \n",
    "    #Function to make predictions and calculate how often the biased words are chosen\n",
    "    def run_model_and_evaluate(self):\n",
    "        output = self.make_predictions()\n",
    "        neg, neu, pos = self.sentiment_analysis(output)\n",
    "        self.sentiment_graph(neg, neu, pos)\n",
    "        self.cat_scores(output)\n",
    "        \n",
    "        results = [\n",
    "            output.count(1),\n",
    "            output.count(2), \n",
    "            output.count(3)\n",
    "        ]\n",
    "        return results\n",
    "        \n",
    "\n",
    "    #Insert the candidates words inside the sentences\n",
    "    def process_sentences(self,s='______'):\n",
    "        person = \"<person>\"\n",
    "        candidate_sentence = []\n",
    "        for index,row in self.data.iterrows():\n",
    "            sent = []\n",
    "            for c in self.choices.keys():\n",
    "                tmp = re.sub(s,row.loc[c], row.loc['sentence'])  #replace s with candidate words\n",
    "                tmp = re.sub(person, self.target, tmp)\n",
    "                sent.append(tmp)\n",
    "            candidate_sentence.append(sent) \n",
    "        self.data.loc[:,'candidate_sentence'] = candidate_sentence\n",
    "    \n",
    "    #find the mask indices for the encoded sentence.\n",
    "    def get_sublist_idxs_in_list(self, word, sentence):\n",
    "        possibles = np.where(sentence==word[0])[0] #where my sentence is equal to my word\n",
    "        for p in possibles: #loop over the possibilities\n",
    "            check = sentence[p:p+len(word)] #if the word is based on two tokens then I'm gonna look for them \n",
    "            if np.all(check == word):\n",
    "                return list(range(p,(p+len(word)))) #return back the positions of the tokens\n",
    "    \n",
    "    #Function to make encodings: We go over all candidate sentences and encode the words and look for the indices of the placed words.\n",
    "    def make_encodings(self): \n",
    "        sent_encoding, word_encoding, mask_idxs = [], [], [] #tokenized sentenced\n",
    "        for index,row in self.data.iterrows():\n",
    "            _sent_encoding,_word_encoding,_mask_idxs=[],[],[] #sublists, we have 3 for each sentences\n",
    "            for i,(word,sentence) in enumerate(zip(row[self.choices.keys()],row.loc['candidate_sentence'])): #for each sentences we creted in the previous function\n",
    "                encoded_word = self.tokenizer.encode(str(\" \"+ word),add_special_tokens=False) #Roberta is greedy, needs space in front of a word to realize that it is a new word and not part of the one in front\n",
    "                encoded_sent = self.tokenizer.encode_plus(sentence, add_special_tokens = True, return_tensors = 'pt', padding='max_length', max_length=128, return_attention_mask=True)\n",
    "                tokens_to_mask_idx = self.get_sublist_idxs_in_list(np.array(encoded_word),np.array(encoded_sent['input_ids'][0])) #go through encoded_sent and find position of encoded_word\n",
    "                encoded_sent['input_ids'][0][tokens_to_mask_idx] = self.tokenizer.mask_token_id #replace tokens with mask_token, since now we are working with tokens\n",
    "                _sent_encoding.append(encoded_sent)\n",
    "                _word_encoding.append(encoded_word)\n",
    "                _mask_idxs.append(tokens_to_mask_idx)\n",
    "            sent_encoding.append(_sent_encoding)\n",
    "            word_encoding.append(_word_encoding)\n",
    "            mask_idxs.append(_mask_idxs)\n",
    "        return sent_encoding , word_encoding , mask_idxs\n",
    "    \n",
    "    def sentiment_analysis(self, output):\n",
    "        pos, neu, neg = [0, 0, 0], [0, 0, 0], [0, 0, 0]\n",
    "        #neg = (bia, unb ,unr)\n",
    "        #pos = (bia, unb ,unr)\n",
    "        #neu = (bia, unb ,unr)\n",
    "        choices = [\"bias\", \"unbiased\", \"unrelated\"]   \n",
    "        afn = Afinn()\n",
    "        for index,row in self.data.iterrows():\n",
    "            chosen = output[index]-1 #num answer\n",
    "            word =row.loc[choices[chosen]] \n",
    "            score = afn.score(word)\n",
    "            if score < 0:\n",
    "                neg[chosen] = neg[chosen] +1\n",
    "            if score == 0:\n",
    "                neu[chosen] = neu[chosen] +1\n",
    "            if score > 0:\n",
    "                pos[chosen] = pos[chosen] +1\n",
    "        return neg, neu, pos\n",
    "    \n",
    "    def cat_scores(self, output):\n",
    "        bias = output.count(1)\n",
    "        unbiased = output.count(2)\n",
    "        meaningful= bias + unbiased\n",
    "        lms = (meaningful/len(output))*100\n",
    "        try:\n",
    "            ss= int((bias/meaningful)*100)\n",
    "        except:\n",
    "            ss = 0\n",
    "        if (100-ss) < ss:\n",
    "            min = 100-ss\n",
    "        else:\n",
    "            min = ss\n",
    "        cat =  (min/50) * lms\n",
    "        print (\"--------- SCORES ---------\")\n",
    "        print (f\"lms: {lms}\")\n",
    "        print (f\"ss: {ss}\")\n",
    "        print (f\"icat: {cat}\")\n",
    "        \n",
    "    def make_predictions(self):\n",
    "        output = [] #we want what option with highest probability has been chosen\n",
    "        for q_idx, (w, s, m) in enumerate(zip(self.word_encodings, self.sent_encodings, self.mask_idxs)):\n",
    "            predictions =[]\n",
    "            candidate_input_ids = torch.stack([inp_ids['input_ids'].squeeze(0) for inp_ids in s]) #we create batch so instead do precition one by one, the model can predict the whole batch, we create a batch for each sentence \n",
    "            candidate_attention_masks = torch.stack([am['attention_mask'].squeeze(0) for am in s])\n",
    "            candidate_logits = self.model(candidate_input_ids, attention_mask=candidate_attention_masks).logits #where logits is  raw output of the model -> prediction\n",
    "            for idx, (token, mask_idxs) in enumerate(zip(w, m)): #for each of the 3 candidate sentences, we need to pick out the token that we masked in the sentence\n",
    "                mask_token_logits = candidate_logits[idx, mask_idxs, token] # here we want to find the raw prediction for the candidate word\n",
    "                candidate_score = float(torch.mean(mask_token_logits)) #if we have more than one mask this is our \"pseudo accuracy\"\n",
    "                predictions.append(candidate_score)\n",
    "                #print(predictions)\n",
    "            output.append(np.argmax(predictions) + 1) #start the keys for the choices at 1 as well > returns the choice that is chosen as an answer, we don't need that\n",
    "        return output\n",
    "       \n",
    "    \n",
    "    \n",
    "        "
   ]
  },
  {
   "cell_type": "code",
   "execution_count": 84,
   "metadata": {},
   "outputs": [
    {
     "name": "stderr",
     "output_type": "stream",
     "text": [
      "Some weights of the model checkpoint at bert-large-uncased were not used when initializing BertForMaskedLM: ['cls.seq_relationship.weight', 'cls.seq_relationship.bias']\n",
      "- This IS expected if you are initializing BertForMaskedLM from the checkpoint of a model trained on another task or with another architecture (e.g. initializing a BertForSequenceClassification model from a BertForPreTraining model).\n",
      "- This IS NOT expected if you are initializing BertForMaskedLM from the checkpoint of a model that you expect to be exactly identical (initializing a BertForSequenceClassification model from a BertForSequenceClassification model).\n"
     ]
    },
    {
     "data": {
      "image/png": "[encoded data removed]",
      "text/plain": [
       "<Figure size 432x288 with 1 Axes>"
      ]
     },
     "metadata": {
      "needs_background": "light"
     },
     "output_type": "display_data"
    },
    {
     "name": "stdout",
     "output_type": "stream",
     "text": [
      "--------- SCORES ---------\n",
      "lms: 100.0\n",
      "ss: 66\n",
      "icat: 68.0\n"
     ]
    },
    {
     "name": "stderr",
     "output_type": "stream",
     "text": [
      "Some weights of the model checkpoint at bert-large-uncased were not used when initializing BertForMaskedLM: ['cls.seq_relationship.weight', 'cls.seq_relationship.bias']\n",
      "- This IS expected if you are initializing BertForMaskedLM from the checkpoint of a model trained on another task or with another architecture (e.g. initializing a BertForSequenceClassification model from a BertForPreTraining model).\n",
      "- This IS NOT expected if you are initializing BertForMaskedLM from the checkpoint of a model that you expect to be exactly identical (initializing a BertForSequenceClassification model from a BertForSequenceClassification model).\n"
     ]
    },
    {
     "data": {
      "image/png": "[encoded data removed]",
      "text/plain": [
       "<Figure size 432x288 with 1 Axes>"
      ]
     },
     "metadata": {
      "needs_background": "light"
     },
     "output_type": "display_data"
    },
    {
     "name": "stdout",
     "output_type": "stream",
     "text": [
      "--------- SCORES ---------\n",
      "lms: 100.0\n",
      "ss: 63\n",
      "icat: 74.0\n"
     ]
    }
   ],
   "source": [
    "choices = {'bias':1, 'unbiased':2,'unrelated':3} \n",
    "targets = [\"male\", \"female\"]\n",
    "file_path = 'dataset/template_intra.csv'\n",
    "#model_name = 'roberta-base' \n",
    "model_name ='bert-large-uncased'\n",
    "templates = pd.read_csv(file_path, sep=\";\")\n",
    "bias= []\n",
    "for t in targets:\n",
    "    evaluator = IntrasentenceEvaluator(templates.copy(), choices, model_name, t)\n",
    "    bias.append(evaluator.run_model_and_evaluate())\n"
   ]
  },
  {
   "cell_type": "code",
   "execution_count": 85,
   "metadata": {},
   "outputs": [
    {
     "data": {
      "image/png": "[encoded data removed]",
      "text/plain": [
       "<Figure size 432x288 with 1 Axes>"
      ]
     },
     "metadata": {
      "needs_background": "light"
     },
     "output_type": "display_data"
    }
   ],
   "source": [
    "print_graph(bias, model_name, targets)"
   ]
  }
 ],
 "metadata": {
  "kernelspec": {
   "display_name": "base",
   "language": "python",
   "name": "python3"
  },
  "language_info": {
   "codemirror_mode": {
    "name": "ipython",
    "version": 3
   },
   "file_extension": ".py",
   "mimetype": "text/x-python",
   "name": "python",
   "nbconvert_exporter": "python",
   "pygments_lexer": "ipython3",
   "version": "3.9.15"
  },
  "orig_nbformat": 4,
  "vscode": {
   "interpreter": {
    "hash": "5c431e0593e1ee77f96bd6f746b63b987ead1ae8f9402a6438f4058638187923"
   }
  }
 },
 "nbformat": 4,
 "nbformat_minor": 2
}
