{
 "cells": [
  {
   "cell_type": "code",
   "execution_count": 604,
   "metadata": {},
   "outputs": [],
   "source": [
    "#!pip3 -qqq install snscrape \n",
    "#!pip install tqdm\n",
    "\n",
    "import snscrape.modules.twitter as snt\n",
    "from tqdm import tqdm  # for our progress bar\n",
    "import pandas as pd\n",
    "import re"
   ]
  },
  {
   "attachments": {},
   "cell_type": "markdown",
   "metadata": {},
   "source": [
    "- https://medium.com/dataseries/how-to-scrape-millions-of-tweets-using-snscrape-195ee3594721\n",
    "- https://www.youtube.com/watch?v=PUMMCLrVn8A"
   ]
  },
  {
   "cell_type": "code",
   "execution_count": 605,
   "metadata": {},
   "outputs": [],
   "source": [
    "def remove_emojis(data):\n",
    "    emoj = re.compile(\"[\"\n",
    "        u\"\\U0001F600-\\U0001F64F\"  # emoticons\n",
    "        u\"\\U0001F300-\\U0001F5FF\"  # symbols & pictographs\n",
    "        u\"\\U0001F680-\\U0001F6FF\"  # transport & map symbols\n",
    "        u\"\\U0001F1E0-\\U0001F1FF\"  # flags (iOS)\n",
    "        u\"\\U00002500-\\U00002BEF\"  # chinese char\n",
    "        u\"\\U00002702-\\U000027B0\"\n",
    "        u\"\\U00002702-\\U000027B0\"\n",
    "        u\"\\U000024C2-\\U0001F251\"\n",
    "        u\"\\U0001f926-\\U0001f937\"\n",
    "        u\"\\U00010000-\\U0010ffff\"\n",
    "        u\"\\u2640-\\u2642\" \n",
    "        u\"\\u2600-\\u2B55\"\n",
    "        u\"\\u200d\"\n",
    "        u\"\\u23cf\"\n",
    "        u\"\\u23e9\"\n",
    "        u\"\\u231a\"\n",
    "        u\"\\ufe0f\"  # dingbats\n",
    "        u\"\\u3030\"\n",
    "                      \"]+\", re.UNICODE)\n",
    "    return re.sub(emoj, '', data)"
   ]
  },
  {
   "cell_type": "code",
   "execution_count": null,
   "metadata": {},
   "outputs": [],
   "source": [
    "def clean_tweet(tweet):\n",
    "    tweet.content = re.sub(r'http\\S+', '', tweet.content)\n",
    "    tweet.content = re.sub(r'@\\S+', '', tweet.content)\n",
    "    tweet.content = re.sub(r'#\\S+', '', tweet.content)\n",
    "    tweet.content = remove_emojis (tweet.content)"
   ]
  },
  {
   "cell_type": "code",
   "execution_count": 606,
   "metadata": {},
   "outputs": [],
   "source": [
    "def grab_tweets(total_number, topic): \n",
    "  scraper = snt.TwitterSearchScraper(topic)\n",
    "  #file = open(\"results.txt\", \"w\")\n",
    "  final_tweets = []\n",
    "\n",
    "  for index, tweet in tqdm(enumerate(scraper.get_items()), total = total_number, leave = False):\n",
    "    \n",
    "    clean_tweet(tweet)\n",
    "    \n",
    "    data = [\n",
    "      tweet.date,\n",
    "      tweet.id,\n",
    "      tweet.content,\n",
    "      tweet.user.username,\n",
    "      tweet.likeCount,\n",
    "      tweet.retweetCount,\n",
    "    ]\n",
    "    #str_tweet= tweet.content\n",
    "    final_tweets.append(data)\n",
    "    #file.write(str_tweet)\n",
    "    if(index == total_number):\n",
    "      break\n",
    "          \n",
    "  # file.write('.'.join(final_tweets))\n",
    "      \n",
    "  # Create the dataframe\n",
    "  #final_tweets_df = pd.DataFrame(final_tweets, columns = column_names)\n",
    "  \n",
    "  return final_tweets"
   ]
  },
  {
   "cell_type": "code",
   "execution_count": 607,
   "metadata": {},
   "outputs": [
    {
     "name": "stderr",
     "output_type": "stream",
     "text": [
      "                                                \r"
     ]
    }
   ],
   "source": [
    "num_tweets = 100\n",
    "topic = \"male refugee\"\n",
    "final_tweets_data = grab_tweets(num_tweets, topic)"
   ]
  },
  {
   "cell_type": "code",
   "execution_count": 608,
   "metadata": {},
   "outputs": [],
   "source": [
    "tweet_df = pd.DataFrame(final_tweets_data, columns=[\"date\",\"id\", \"content\", \"username\", \"like_count\", \"retweet_count\"])\n",
    "tweet_df.to_csv(\"tweet_dataset/\"+topic+\"_tweet.csv\")"
   ]
  }
 ],
 "metadata": {
  "kernelspec": {
   "display_name": "base",
   "language": "python",
   "name": "python3"
  },
  "language_info": {
   "codemirror_mode": {
    "name": "ipython",
    "version": 3
   },
   "file_extension": ".py",
   "mimetype": "text/x-python",
   "name": "python",
   "nbconvert_exporter": "python",
   "pygments_lexer": "ipython3",
   "version": "3.9.12 (main, Apr  5 2022, 01:52:34) \n[Clang 12.0.0 ]"
  },
  "orig_nbformat": 4,
  "vscode": {
   "interpreter": {
    "hash": "5c431e0593e1ee77f96bd6f746b63b987ead1ae8f9402a6438f4058638187923"
   }
  }
 },
 "nbformat": 4,
 "nbformat_minor": 2
}
