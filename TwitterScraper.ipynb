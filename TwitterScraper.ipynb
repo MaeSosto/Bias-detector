{
 "cells": [
  {
   "attachments": {},
   "cell_type": "markdown",
   "metadata": {},
   "source": [
    "# Twitter Scraper"
   ]
  },
  {
   "attachments": {},
   "cell_type": "markdown",
   "metadata": {},
   "source": [
    "References:\n",
    "- https://medium.com/dataseries/how-to-scrape-millions-of-tweets-using-snscrape-195ee3594721\n",
    "- https://www.youtube.com/watch?v=PUMMCLrVn8A"
   ]
  },
  {
   "cell_type": "code",
   "execution_count": 13,
   "metadata": {},
   "outputs": [],
   "source": [
    "#!pip3 -qqq install snscrape \n",
    "#!pip install tqdm"
   ]
  },
  {
   "cell_type": "code",
   "execution_count": 14,
   "metadata": {},
   "outputs": [],
   "source": [
    "import snscrape.modules.twitter as snt\n",
    "from tqdm import tqdm  # for our progress bar\n",
    "import pandas as pd\n",
    "import re"
   ]
  },
  {
   "cell_type": "code",
   "execution_count": 15,
   "metadata": {},
   "outputs": [],
   "source": [
    "def remove_emojis(data):\n",
    "    emoj = re.compile(\"[\"\n",
    "        u\"\\U0001F600-\\U0001F64F\"  # emoticons\n",
    "        u\"\\U0001F300-\\U0001F5FF\"  # symbols & pictographs\n",
    "        u\"\\U0001F680-\\U0001F6FF\"  # transport & map symbols\n",
    "        u\"\\U0001F1E0-\\U0001F1FF\"  # flags (iOS)\n",
    "        u\"\\U00002500-\\U00002BEF\"  # chinese char\n",
    "        u\"\\U00002702-\\U000027B0\"\n",
    "        u\"\\U00002702-\\U000027B0\"\n",
    "        u\"\\U000024C2-\\U0001F251\"\n",
    "        u\"\\U0001f926-\\U0001f937\"\n",
    "        u\"\\U00010000-\\U0010ffff\"\n",
    "        u\"\\u2640-\\u2642\" \n",
    "        u\"\\u2600-\\u2B55\"\n",
    "        u\"\\u200d\"\n",
    "        u\"\\u23cf\"\n",
    "        u\"\\u23e9\"\n",
    "        u\"\\u231a\"\n",
    "        u\"\\ufe0f\"  # dingbats\n",
    "        u\"\\u3030\"\n",
    "                      \"]+\", re.UNICODE)\n",
    "    return re.sub(emoj, '', data)"
   ]
  },
  {
   "cell_type": "code",
   "execution_count": 16,
   "metadata": {},
   "outputs": [],
   "source": [
    "def clean_tweet(tweet):\n",
    "    tweet.content = re.sub(r'http\\S+', '', tweet.content)\n",
    "    tweet.content = re.sub(r'@\\S+', '', tweet.content)\n",
    "    tweet.content = re.sub(r'#\\S+', '', tweet.content)\n",
    "    tweet.content = remove_emojis (tweet.content)"
   ]
  },
  {
   "cell_type": "code",
   "execution_count": 17,
   "metadata": {},
   "outputs": [],
   "source": [
    "def grab_tweets(total_number, topic): \n",
    "  scraper = snt.TwitterSearchScraper(topic)\n",
    "  #file = open(\"results.txt\", \"w\")\n",
    "  final_tweets = []\n",
    "\n",
    "  for index, tweet in tqdm(enumerate(scraper.get_items()), total = total_number, leave = False):\n",
    "    \n",
    "    clean_tweet(tweet)\n",
    "    \n",
    "    data = [\n",
    "      tweet.date,\n",
    "      tweet.id,\n",
    "      tweet.content,\n",
    "      tweet.user.username,\n",
    "      tweet.likeCount,\n",
    "      tweet.retweetCount,\n",
    "    ]\n",
    "    final_tweets.append(data)\n",
    "    if(index == total_number):\n",
    "      break\n",
    "  return final_tweets"
   ]
  },
  {
   "attachments": {},
   "cell_type": "markdown",
   "metadata": {},
   "source": [
    "Change the number of tweets and the topic for obtain different results"
   ]
  },
  {
   "cell_type": "code",
   "execution_count": 18,
   "metadata": {},
   "outputs": [
    {
     "name": "stderr",
     "output_type": "stream",
     "text": [
      "                                                  \r"
     ]
    }
   ],
   "source": [
    "num_tweets = 1000\n",
    "topic = \"female refugee\"\n",
    "csv_path = \"tweet_dataset/\"+topic+\"_tweet.csv\"\n",
    "final_tweets_data = grab_tweets(num_tweets, topic)\n",
    "\n",
    "tweet_df = pd.DataFrame(final_tweets_data, columns=[\"date\",\"id\", \"content\", \"username\", \"like_count\", \"retweet_count\"])\n",
    "tweet_df.to_csv(csv_path)"
   ]
  }
 ],
 "metadata": {
  "kernelspec": {
   "display_name": "Python 3",
   "language": "python",
   "name": "python3"
  },
  "language_info": {
   "codemirror_mode": {
    "name": "ipython",
    "version": 3
   },
   "file_extension": ".py",
   "mimetype": "text/x-python",
   "name": "python",
   "nbconvert_exporter": "python",
   "pygments_lexer": "ipython3",
   "version": "3.8.15 (default, Nov 24 2022, 08:57:44) \n[Clang 14.0.6 ]"
  },
  "orig_nbformat": 4,
  "vscode": {
   "interpreter": {
    "hash": "15d6292860cc78e97636364eb566ee442ee091f2fa7bba70cf5bdbfcb3ed8354"
   }
  }
 },
 "nbformat": 4,
 "nbformat_minor": 2
}
