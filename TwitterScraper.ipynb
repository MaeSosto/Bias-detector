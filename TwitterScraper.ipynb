{
 "cells": [
  {
   "cell_type": "code",
   "execution_count": 558,
   "metadata": {},
   "outputs": [],
   "source": [
    "#!pip3 -qqq install snscrape \n",
    "#!pip install tqdm\n",
    "\n",
    "import snscrape.modules.twitter as snt\n",
    "from tqdm import tqdm  # for our progress bar\n",
    "import pandas as pd"
   ]
  },
  {
   "attachments": {},
   "cell_type": "markdown",
   "metadata": {},
   "source": [
    "- https://medium.com/dataseries/how-to-scrape-millions-of-tweets-using-snscrape-195ee3594721\n",
    "- https://www.youtube.com/watch?v=PUMMCLrVn8A"
   ]
  },
  {
   "cell_type": "code",
   "execution_count": 559,
   "metadata": {},
   "outputs": [],
   "source": [
    "def grab_tweets(total_number, topic): \n",
    "  scraper = snt.TwitterSearchScraper(topic)\n",
    "  #file = open(\"results.txt\", \"w\")\n",
    "  final_tweets = []\n",
    "\n",
    "  for index, tweet in tqdm(enumerate(scraper.get_items()), total = total_number, leave = False):\n",
    "    data = [\n",
    "      tweet.date,\n",
    "      tweet.id,\n",
    "      tweet.content,\n",
    "      tweet.user.username,\n",
    "      tweet.likeCount,\n",
    "      tweet.retweetCount,\n",
    "    ]\n",
    "    \n",
    "    #str_tweet= tweet.content\n",
    "    final_tweets.append(data)\n",
    "    #file.write(str_tweet)\n",
    "    if(index == total_number):\n",
    "      break\n",
    "          \n",
    "  # file.write('.'.join(final_tweets))\n",
    "      \n",
    "  # Create the dataframe\n",
    "  #final_tweets_df = pd.DataFrame(final_tweets, columns = column_names)\n",
    "  \n",
    "  return final_tweets"
   ]
  },
  {
   "cell_type": "code",
   "execution_count": 560,
   "metadata": {},
   "outputs": [
    {
     "name": "stderr",
     "output_type": "stream",
     "text": [
      "                                                 \r"
     ]
    }
   ],
   "source": [
    "num_tweets = 100\n",
    "topic = \"male refugee\"\n",
    "final_tweets_data = grab_tweets(num_tweets, topic)"
   ]
  },
  {
   "cell_type": "code",
   "execution_count": 561,
   "metadata": {},
   "outputs": [],
   "source": [
    "tweet_df = pd.DataFrame(final_tweets_data, columns=[\"date\",\"id\", \"content\", \"username\", \"like_count\", \"retweet_count\"])\n",
    "tweet_df.to_csv(topic+\"_tweet.csv\")"
   ]
  }
 ],
 "metadata": {
  "kernelspec": {
   "display_name": "Python 3",
   "language": "python",
   "name": "python3"
  },
  "language_info": {
   "codemirror_mode": {
    "name": "ipython",
    "version": 3
   },
   "file_extension": ".py",
   "mimetype": "text/x-python",
   "name": "python",
   "nbconvert_exporter": "python",
   "pygments_lexer": "ipython3",
   "version": "3.9.2"
  },
  "orig_nbformat": 4,
  "vscode": {
   "interpreter": {
    "hash": "12861e5315bdb75fb922ae54cdca33f3b247952a8c09f8d18a3c35e2aa0589f6"
   }
  }
 },
 "nbformat": 4,
 "nbformat_minor": 2
}
